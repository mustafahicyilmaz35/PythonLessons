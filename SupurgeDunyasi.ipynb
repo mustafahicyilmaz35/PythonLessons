{
  "nbformat": 4,
  "nbformat_minor": 0,
  "metadata": {
    "colab": {
      "name": "Untitled13.ipynb",
      "provenance": []
    },
    "kernelspec": {
      "name": "python3",
      "display_name": "Python 3"
    }
  },
  "cells": [
    {
      "cell_type": "code",
      "metadata": {
        "id": "UxOd3XDhjicf",
        "colab_type": "code",
        "colab": {
          "base_uri": "https://localhost:8080/",
          "height": 238
        },
        "outputId": "af8cc700-d52e-4360-d2b2-0d5c61e384bd"
      },
      "source": [
        "import random\n",
        "\n",
        "#Süpürge Dünyasını imlemente ediyoruz.\n",
        "#İlk önce durumları oluşturmalıyız.\n",
        "#Durumları envitoment class ı içinde yani Supurge_Dunyasi class ı içerisinde çağıracağız.\n",
        "class Supurge_Dunyasi():\n",
        "  def __init__(self):\n",
        "    self.durumlar = {'lok_A':random.choice(['Temiz','Kirli']), 'lok_B':random.choice(['Temiz','Kirli'])}\n",
        "    self.done = False; #Her yer temiz mi değil mi onu kontrol etmek için kullanacağız. Default olarak false verdik. Temizlenirse true ya dönüşecek.\n",
        "  #Hareketini oluşturalım.\n",
        "  def hareket_al(self,agent,hareket):\n",
        "    if(hareket == 'sag'):\n",
        "      agent.location = 'lok_B'\n",
        "      agent.performans -=1 #Ajan ister sağda olsun ister solda olsun sağa hareket ettiğinde lok_B ye gidecek ve her hareket performansından bir birim değer kaybettirecek.\n",
        "    elif(hareket == 'sol'):\n",
        "      agent.location = 'lok_A'\n",
        "      agent.performans -= 1\n",
        "    elif(hareket == 'cek'):\n",
        "      if(self.durumlar[agent.location]=='Kirli'):\n",
        "        agent.performans += 10\n",
        "        self.durumlar[agent.location] = 'Temiz'\n",
        "    if(self.durumlar['lok_A'] == \"Temiz\" and self.durumlar['lok_B'] == \"Temiz\"):\n",
        "      self.done = True\n",
        "  #Ajana default başlangıç noktası verelim.\n",
        "  def random_baslangic(self):\n",
        "    return random.choice(['lok_A','lok_B'])\n",
        "  \n",
        "#Agenet sınıfımızı oluşturalım\n",
        "class Agent():\n",
        "  def __init__(self,location):\n",
        "    self.performans = 0\n",
        "    self.location = location\n",
        "  def hareket_sec(self):\n",
        "    return random.choice(['sag','sol','cek'])\n",
        "  \n",
        "env = Supurge_Dunyasi()\n",
        "agent = Agent(env.random_baslangic()) #hata verebilir.\n",
        "\n",
        "#env.done false olduğu sürece bu döngü çalışmalı\n",
        "while(not env.done):\n",
        "  agent_hareketi = agent.hareket_sec()\n",
        "  print(agent_hareketi)\n",
        "  env.hareket_al(agent,agent_hareketi)\n",
        "  print(agent.location)\n",
        "  print(env.durumlar)\n",
        "\n",
        "  \n",
        "print(agent.performans)\n",
        "\n",
        "\n"
      ],
      "execution_count": 6,
      "outputs": [
        {
          "output_type": "stream",
          "text": [
            "sag\n",
            "lok_B\n",
            "{'lok_A': 'Kirli', 'lok_B': 'Temiz'}\n",
            "cek\n",
            "lok_B\n",
            "{'lok_A': 'Kirli', 'lok_B': 'Temiz'}\n",
            "sol\n",
            "lok_A\n",
            "{'lok_A': 'Kirli', 'lok_B': 'Temiz'}\n",
            "cek\n",
            "lok_A\n",
            "{'lok_A': 'Temiz', 'lok_B': 'Temiz'}\n",
            "8\n"
          ],
          "name": "stdout"
        }
      ]
    }
  ]
}